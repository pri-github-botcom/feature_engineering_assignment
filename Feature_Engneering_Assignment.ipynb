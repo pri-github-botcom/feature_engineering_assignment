{
  "nbformat": 4,
  "nbformat_minor": 0,
  "metadata": {
    "colab": {
      "provenance": []
    },
    "kernelspec": {
      "name": "python3",
      "display_name": "Python 3"
    },
    "language_info": {
      "name": "python"
    }
  },
  "cells": [
    {
      "cell_type": "markdown",
      "source": [
        "#1)\n",
        "\n",
        "Solution:\n",
        "\n",
        "A parameter in machine learning refers to a variable that the learning algorithm optimizes during during the training process. Parameter defrine the configuration of the model and determine how the input data is transformed into an output. Examples include the weights and biases in a neural network.\n",
        "\n",
        "These are updateed through optimization techniques like gradient like gradient descent to minimize thye error in predictions. Parameter are learnede automatically from the data during training."
      ],
      "metadata": {
        "id": "Od1FzuOHKMnR"
      }
    },
    {
      "cell_type": "markdown",
      "source": [
        "# 2)"
      ],
      "metadata": {
        "id": "nzJD4XsX15B3"
      }
    },
    {
      "cell_type": "markdown",
      "source": [
        "\n",
        "\n",
        "Solution:\n",
        "\n",
        "Correlation is a statistical measure that expresses the strength and the direction of the relationship between two variables. It indicates the whether and how strongly two variables are related.\n",
        "\n",
        "* A positive correlation means that as one variable increases, the other variable also tends to increase.\n",
        "\n",
        "* A negative correlation means that as one variable increases, the other tends to decrease.\n",
        "\n",
        "* A correlation value ranges between -1 and 1:\n",
        "* +1: Perfect positive correlation.\n",
        "* -1: Perfect negative correlation.\n",
        "* 0: No correlation.\n",
        "\n",
        "In machine learning, correlation is used to understand the relkationships between feateures or between featiures and the target variable."
      ],
      "metadata": {
        "id": "SvQsG1ivLu8h"
      }
    },
    {
      "cell_type": "markdown",
      "source": [
        "#3)\n",
        "\n",
        "Solution:\n",
        "\n",
        "Machine Learning (ML) is a subset of artificial intelligence (AI) that focuses on building systems and algorithms that can automatically learn from and make predictions or de3cisions based on data, without being explicitly programmed.\n",
        "\n",
        "It involves three main components:\n",
        "\n",
        "1. Data: The input information used to train the model.\n",
        "\n",
        "2. Modele: The mathematical or computational structure used to analyze and learn patterns from the data.\n",
        "\n",
        "3. Algorithm: The method used to train the model by optimizing its optimizing its parameters.\n",
        "\n",
        "Machine learning can be broadly catagorized into:\n",
        "\n",
        "* Supervised learning: Learning: Learning from labled data.\n",
        "\n",
        "* Unsupervised learning: Identifying learning: Identifying patterns in unlabeled data.\n",
        "\n",
        "* Reinforced learning: Learning by interacting with an environment to achieve a goal.\n",
        "\n"
      ],
      "metadata": {
        "id": "LNj4IT6POKaO"
      }
    },
    {
      "cell_type": "markdown",
      "source": [
        "#4)\n",
        "\n",
        "Solution:\n",
        "\n",
        "The loss value represents the error between model's predictions and the actual target values. It is crucial metric used to evaluate and optimize the machine learning models.\n",
        "\n",
        "* A lower loss value indicates that the model's predictions are close to the actual values, meaning the model is performing well.\n",
        "\n",
        "* A higher loss value indicates that the model's predictions are far from the actaul values, indicating poor performance.\n",
        "\n",
        "By minimizing the loss value using optimization techniques (e.g., gradient descent), we can improve the model's accuracy and make it more reliable for predictions.\n"
      ],
      "metadata": {
        "id": "doviGYWKRFZB"
      }
    },
    {
      "cell_type": "markdown",
      "source": [
        "#5)\n",
        "\n",
        "Solution:\n",
        "\n",
        "1) Continuous Variables:\n",
        "\n",
        "These are numerical variables that can take infinite number of values within a given range.\n",
        "\n",
        "Example: Height, weight, temperature and age.\n",
        "\n",
        "* These variables are measured on a scale and can include decimal values (e.g., 25.6 kg).\n",
        "\n",
        "2) Categorical variables: These are variables that represent distinct categories or groups and have a limited number of possible values.\n",
        "\n",
        "* Example: Gender (Male/Female), color(Red/Blue/Green), or yes/no responses.\n",
        "\n",
        "* These variable can be further divided into:\n",
        "\n",
        "** Nominal: Categories without a specific oreder (e.g., colors).\n",
        "\n",
        "** Ordinal: Categories with a meaningful order (e.g., education level: high school< bachlor's< master's).\n",
        "\n",
        "Undrstanding these variables is essential in machine learning for feature engineering and selecting appropriate models.\n",
        "\n"
      ],
      "metadata": {
        "id": "62rCW3JGWkK5"
      }
    },
    {
      "cell_type": "markdown",
      "source": [
        "#6)\n",
        "\n",
        "\n",
        "\n",
        "\n",
        "solution:\n",
        "\n",
        " Handling continuous and categorical variables properly is essential for on effective machine learning model.\n",
        "\n",
        " 1) Handling Continuous Variables:\n",
        "\n",
        " * Normalization/Standardization: Scaling the values to a specific range (e.g., [0.1]) or standardizing them to have a mean of 0 and a standard deviation of 1.\n",
        "\n",
        " * Binning: Converting continuous values into categorical bins (e.g., age groups like \"child\", \"adult\" and \"senior\").\n",
        "\n",
        " * Polynomial Features: Crating new features by raising continuous variables to a power for capturing non-linear relationships.\n",
        "\n",
        "2)  Handling Categorical Variables:\n",
        "\n",
        " * Label Encoding: Assigning numeric labels to each category (e.g., Male=0, Female +1).\n",
        "\n",
        " * One-Hot Encoding: Creating binary columns for each category(e.g., Gender becomes two columns: Male = 1, Female = 0).\n",
        "\n",
        " * Ordinal Encoding: Encoding categories with with their frequency or count in the dataset.\n",
        "\n",
        " Proper handling depends on the model and dataset, as some algorithms (like decision trees) can handle categorical variables directly, while others (like linear regression) require numerical inputs.\n",
        "\n",
        "# 7)\n",
        "\n",
        " Solution:\n",
        "\n",
        " Handling missing vaues is crucial to ensure the modele's accuracy and relaibility. Common techniques include:\n",
        "\n",
        " 1) Deletion Methods:\n",
        "\n",
        " * Listwise Deletion: Remove rows with nissing values (useful when missing data is minimal).\n",
        "\n",
        " * Column Deletion: Remove columns with a high percentage of missing values.\n",
        "\n",
        " 2) Imputation Methods:\n",
        "\n",
        " * Mean/Median/Mode Imputation: Replace missing values with the mean (for continuous variables), median, or mode (for categorical variables).\n",
        "\n",
        " * Forward or Backward Fill: Use preceding or succeeding values to fill the missing data (time-series data).\n",
        "\n",
        " * K-Nearest Neighbors (KNN) Imputation: Predict missing values based on the closest data points.\n",
        "\n",
        " * Multivariate Impuation: Use relationships among features to predict missing values.\n",
        "\n",
        " 3) Indicator Variable: Add a new binary column indicating whether a value is missing (useful for categorical or important features).\n",
        "\n",
        " 4) Prediction Models: Use machine learning models to predict missing values based on other features.\n",
        "\n",
        " The choice of technique depends on the dataset, the percentage of missing values, and the importance of the features."
      ],
      "metadata": {
        "id": "TPQ351mMZ_v8"
      }
    },
    {
      "cell_type": "markdown",
      "source": [
        "# 7)\n",
        "\n",
        "Solution:\n",
        "\n",
        "In machine learning, training and testing datasets are used to build and evaluate a model:\n",
        "\n",
        "1. Training Dataset:\n",
        "\n",
        "* It is the subset of the data used to train the model.\n",
        "\n",
        "* The model learns patterns, relationships, and parameters from thios dtasets.\n",
        "\n",
        "* The goal is to minimize error by optimizing the model during this phase.\n",
        "\n",
        "2) Testing Dataset:\n",
        "\n",
        "* Is is the subset of the data used to evaluate the model's performance after training.\n",
        "\n",
        "* The testing data is unseen by the model during training, ensuring an unbiased assessment of how well the model generalizes to new data.\n",
        "\n",
        "\n",
        "The data is usually split into training (e.g.,70-80 %) and testing (e.g., 20-30%) subsets.\n",
        "\n",
        "Proper spiting ensures the model is neither overfitted to the training data nor underfitted."
      ],
      "metadata": {
        "id": "Fr1ebPHwiWlN"
      }
    },
    {
      "cell_type": "markdown",
      "source": [
        " # 8)\n",
        "\n",
        " Solution:\n",
        "\n",
        " sklearn.preprocessing is a module in the Scikit.learn library used for preprocessing data in machine learning. Preprocessing involves transforming raw data into a suitable format format before feeding it into a machine learning model.\n",
        "\n",
        " Common Functions in sklearn.preprocessing:\n",
        "\n",
        " 1) Scaling and Normalization:\n",
        "\n",
        "   * StandardScaler: Standardizes features by rempving the mean and scaling to unit variance.\n",
        "\n",
        "   * MinMaxScaler: Scales features to a specific range, typically [0,1].\n",
        "\n",
        "   * Normalizer: Scales each sample individually to have unit norm.\n",
        "\n",
        "2) Encoding Engineering:\n",
        "\n",
        "  * LabelEncoder: Converts categories into numeric labels.\n",
        "\n",
        "  * OneHotEncoder: Encodes categorical variables into binary (one-hot) representations.\n",
        "\n",
        "3) Feature Engineering:\n",
        "\n",
        "  * PolyFeatures: Generates polynomial and interaction features from the original data.\n",
        "\n",
        "4) Handing Missing Values:\n",
        "\n",
        "  * SimpleImputer: Fills missing values with mean, median or mode.\n",
        "\n",
        "5) Binarization:\n",
        "\n",
        "  * Binarizer: Converts numerical values into binary values based on a threshold.\n",
        "\n",
        "This module ensures that data is clean, standardized, and ready for use in machine learning models.\n",
        "\n"
      ],
      "metadata": {
        "id": "AuQgLA8MlMvN"
      }
    },
    {
      "cell_type": "markdown",
      "source": [
        "# 9)\n",
        "\n",
        "Solution:\n",
        "\n",
        "A test set is a subset of the subset of the dataset used to evaluate the performance of a trained machine learning model. It represents unseen data that the model has not encountered during training.\n",
        "\n",
        "Keu Characterstics:\n",
        "\n",
        "1) Purpose:\n",
        "\n",
        "* To assess how well the model generalize to new, unseen data.\n",
        "\n",
        "* To ensure the model is not overfitting to the training data.\n",
        "\n",
        "2) Size:\n",
        "\n",
        "*  Typically constitutes 20-30% of the original dataset, with the remaining used for training (and sometimes validation).\n",
        "\n",
        "3) Process:\n",
        "\n",
        "* The model makes predictions on the test set, and these predictions are compared with the actual values (ground truth) using metrics like accuracyt, precision, recall or mean squared error.\n",
        "\n",
        "By using a test set, we can ensure the model performs well in real-world scenarios.\n",
        "\n",
        "\n",
        "\n"
      ],
      "metadata": {
        "id": "fNAXhY9vpUkT"
      }
    },
    {
      "cell_type": "markdown",
      "source": [
        "# 10)\n",
        "\n",
        "Solution:\n",
        "\n",
        "Splittng data for model fitting (Training and testing) in Python:\n",
        "\n",
        "When buildng machne learnng models it is essential to split the dataset into separate parts to evaluate the model's performance accurately. The common approach is to divide the data into two sets:\n",
        "\n",
        "1) Training set: Used to train the model.\n",
        "\n",
        "2) Testing test: Used to evaluate the model's performance on unseen data.\n",
        "\n",
        "Steps to split data:\n",
        "\n",
        "1) Import necessary liberaries:\n",
        "\n",
        "Python's scikit-learn library provides a function called train_test_split to perform this split efficiently.\n",
        "\n",
        "\n",
        "\n",
        "\n",
        "\n"
      ],
      "metadata": {
        "id": "xwINAz4F1Ggb"
      }
    },
    {
      "cell_type": "code",
      "source": [
        "from sklearn.model_selection import train_test_split"
      ],
      "metadata": {
        "id": "-EzXnfCSdktL"
      },
      "execution_count": null,
      "outputs": []
    },
    {
      "cell_type": "markdown",
      "source": [
        "2) Load the dataset: You can load a dataset using pandas, numpy, or other methods. For example:"
      ],
      "metadata": {
        "id": "WmG5I5jYd0GF"
      }
    },
    {
      "cell_type": "code",
      "source": [
        "import pandas as pd\n",
        "\n",
        "# Example dataset\n",
        "data = pd.read_csv('data.csv')\n",
        "# Load your dataset\n",
        "X = data.drop('target', axis=1)\n",
        "# Features\n",
        "y = data['target']\n",
        "#target variable"
      ],
      "metadata": {
        "id": "NMp2yOASeX4h"
      },
      "execution_count": null,
      "outputs": []
    },
    {
      "cell_type": "markdown",
      "source": [
        "3) Split the data: Use train_test_split to divide the data into training and testing sets.\n"
      ],
      "metadata": {
        "id": "miYz-aVXfD9t"
      }
    },
    {
      "cell_type": "code",
      "source": [
        "X_train, X_test, y_train, y_test = train_test_split(X,y, test_size = 0.2, random_state= 42)"
      ],
      "metadata": {
        "id": "-vlWD1zOfUD3"
      },
      "execution_count": null,
      "outputs": []
    },
    {
      "cell_type": "markdown",
      "source": [
        "* test_size=0.2: Reserve 20% of the data for testing and 80% for training.\n",
        "\n",
        "* tandom_state=42: Ensures reproducibility by setting a seed.\n",
        "\n",
        "4) Train and test the model:\n",
        "\n",
        "* Train the model using the testing data:\n"
      ],
      "metadata": {
        "id": "-MWJo9laf0Vc"
      }
    },
    {
      "cell_type": "code",
      "source": [
        "predictions= model.predict(X_test)"
      ],
      "metadata": {
        "id": "nc5-I4wjgb6a"
      },
      "execution_count": null,
      "outputs": []
    },
    {
      "cell_type": "markdown",
      "source": [
        "Need to split the data:\n",
        "\n",
        "* Avoid overfitting: By testing on unseen data, you ensure the model is not just memorizing the training data.\n",
        "\n",
        "* Assess Performance: It helps in determining hoe the model generalizes to new data.\n",
        "\n",
        "How to Approach a Machine learning Problem:\n",
        "\n",
        "1) Define the problem:\n",
        "\n",
        "* Understand the business objective or problem to solve.\n",
        "\n",
        "* Define the type of the problem: classification, regression and clustering.\n",
        "\n",
        "2) Collect and explore the data:\n",
        "\n",
        "* Gather the dataset from relevant sources.\n",
        "\n",
        "* Performing Expolatory data analysis (EDA):\n",
        "\n",
        "  * Identify datatypes, missing values, outliers, and distributions.\n",
        "\n",
        "  * Visualize relationships using tools like pandas, matplotlib, and seaborn.\n",
        "\n",
        "\n",
        "3) Processes the data:\n",
        "\n",
        "* Handle missing values: Impute or drop missing values.\n",
        "\n",
        "* Feature scaling: Normalize or standardize numerical features.\n",
        "\n",
        "* Encode Categorical data: Use techniques like label encoding or one-hot encoding.\n",
        "\n",
        "* Feature selection/Engineering: Select relevant features or create new ones.\n",
        "\n",
        "4) Split the data:\n",
        "\n",
        "* Split into training, validation, and testing sets (e.g., 70% train, 15% validation, 15% test).\n",
        "\n",
        "5) Select and train the model:\n",
        "\n",
        "* Choose a suitable algorithm (e.g., Linear regression, Decision trees, SVMs).\n",
        "\n",
        "* Train the model on the training set.\n",
        "\n",
        "6) Evaluate the model:\n",
        "\n",
        "* Use matrix relevant to the problem type:\n",
        "\n",
        "  * Regression: MSE, RMSE, R-squared.\n",
        "\n",
        "  * Classification: Accuracy, Precision, recall, F-1 score, AUC.\n",
        "\n",
        "7) Tune Hyperparameters:\n",
        "\n",
        "* Use techniques like grid search or random search to find the best parameters.\n",
        "\n",
        "* Validate performance using cross-validationor a validation set.\n",
        "\n",
        "8) Test the model:\n",
        "\n",
        "* Evaluate the final model on the test set to measure its generalization ability.\n",
        "\n",
        "9) Deployment:\n",
        "\n",
        "* Integrate the trained model into the production environment.\n",
        "\n",
        "* Monitor the model's performance over time and retrain if necessary."
      ],
      "metadata": {
        "id": "_6MKpy_Ygmd1"
      }
    },
    {
      "cell_type": "markdown",
      "source": [
        "# 11)\n",
        "\n",
        "Solution:\n",
        "\n",
        "Expolatory Data Analysis (EDA) is a critical step in the machine learning process. It involves examining ,visualizing, and summarizing the dataset to understand its underlying structure, patterns and relationships. Performing EDA before fitting a model ensures data quantity and prepares the data for accurate modelimg.\n",
        "\n",
        "Reasons to Perform EDA:\n",
        "\n",
        "1) Understand the Dataset: EDA helps you become familiar with the dataset by answering key questions.\n",
        "\n",
        "\n"
      ],
      "metadata": {
        "id": "4GcQ74OVhWDE"
      }
    },
    {
      "cell_type": "code",
      "source": [
        "print (data.info())\n",
        "print (data.describe())"
      ],
      "metadata": {
        "id": "ZslWtn3a7ixC"
      },
      "execution_count": null,
      "outputs": []
    },
    {
      "cell_type": "markdown",
      "source": [
        "2) Identify missing values: Missing data can negatively impact model performance. EDA helps locate missing values and decide how to handle them (e.g., imputation, removal)"
      ],
      "metadata": {
        "id": "_LdREPS17xLY"
      }
    },
    {
      "cell_type": "code",
      "source": [
        "print(data.isnull().sum())"
      ],
      "metadata": {
        "id": "50xNmUn88OwN"
      },
      "execution_count": null,
      "outputs": []
    },
    {
      "cell_type": "markdown",
      "source": [
        "3) Detect Outliers: Outliers can skew results and reduce model accuracy. Visualizing data using boxplots or scatterplots helps detect these anomalies."
      ],
      "metadata": {
        "id": "HxwgVgGy8W4s"
      }
    },
    {
      "cell_type": "code",
      "source": [
        "import seaborn as sns\n",
        "sns.boxplot(data['column_name'])"
      ],
      "metadata": {
        "id": "ph4NtgYH8wsz"
      },
      "execution_count": null,
      "outputs": []
    },
    {
      "cell_type": "markdown",
      "source": [
        "4) Understand relationships between variables: Correlation analysis reveals the relationships between numerical variables, helping identify features that are strongly or weakly correlated with the target variable."
      ],
      "metadata": {
        "id": "b44wYc6c8-za"
      }
    },
    {
      "cell_type": "code",
      "source": [
        "print(data.corr())"
      ],
      "metadata": {
        "id": "HwX-pU8e9iZj"
      },
      "execution_count": null,
      "outputs": []
    },
    {
      "cell_type": "markdown",
      "source": [
        "visualize correlations using a heatmap:"
      ],
      "metadata": {
        "id": "GNpPMz8c9nlP"
      }
    },
    {
      "cell_type": "code",
      "source": [
        "sns.heatmap(data.corr(), annot=True, cmap= 'coolwarm')"
      ],
      "metadata": {
        "id": "oFXTMJ2990Jt"
      },
      "execution_count": null,
      "outputs": []
    },
    {
      "cell_type": "markdown",
      "source": [
        "5) Identify data distributions: Understanding the distribution of variables helps in selecting appropriate models and techniques. For example, if a target variable is imbalanced, techniques like oversampling or undersampling might be necessary."
      ],
      "metadata": {
        "id": "sExNgEtE-IlP"
      }
    },
    {
      "cell_type": "code",
      "source": [
        "sns.histplot(data['column_name'])"
      ],
      "metadata": {
        "id": "LjR4DA9n-2ra"
      },
      "execution_count": null,
      "outputs": []
    },
    {
      "cell_type": "markdown",
      "source": [
        "6) Detect and handle data quality issues: EDA uncovers issues like:\n",
        "\n",
        "* Duplicates\n",
        "* Incorrect data types\n",
        "* Inconsistent formatting"
      ],
      "metadata": {
        "id": "r7CDYx29_BN0"
      }
    },
    {
      "cell_type": "code",
      "source": [
        "print(data.duplicated().sum())"
      ],
      "metadata": {
        "id": "23DZU5yR_c6x"
      },
      "execution_count": null,
      "outputs": []
    },
    {
      "cell_type": "markdown",
      "source": [
        "7) Feature Selection and Engineering: EDA helps identify irrelevant or redundant features that can be removed to simplify the model. It also provides insights for creating new features that might improve model performance.\n",
        "\n",
        "8) Set data leakage: EDA can help identify situations where the target variable is directly influenced by a feature, leading to overly optimistic performance during training.\n",
        "\n",
        "9) Choose the right model: Understanding the data structure (e.g., linear relationships, categorical data) helps in choosing the most appropriate model or algorithm.\n",
        "\n",
        "Benefits of EDA:\n",
        "\n",
        "1) Improved model accuracy: properly cleaned and prepared data results in better performance.\n",
        "\n",
        "2) Efficient feature engineering: EDA provides insights for creating or selecting meaningful features.\n",
        "\n",
        "3) Prevents Errors: Detecting data issues early reduces the risk of errors during training.\n",
        "\n",
        "4) Informed decision making: EDA helps choose appropriate algorithms and techniques.\n",
        "\n",
        "EDA is foundational step in machine learning workflow. It ensures the dataset is ready for modeling, helps uncover hidden patterns and improves the overall quality and reliability of predictions."
      ],
      "metadata": {
        "id": "1jFC8eZq_ozU"
      }
    },
    {
      "cell_type": "markdown",
      "source": [
        "# 12)\n",
        "\n",
        "Solution:\n",
        "\n",
        "Correlation is a statistical measure that qualifies the relationship between two variables. It shows the degree to which two varables move n relaton to each other.\n",
        "\n",
        "* If the variables move in the same direction , they are positively correlated.\n",
        "\n",
        "* If they move in opposite directions, they are negatively correlated.\n",
        "\n",
        "* If there is no relationship , the correlation is zero or close to zero.\n",
        "\n",
        "Types of correlation:\n",
        "\n",
        "1) Positive correlation:\n",
        "\n",
        "* When one variable increases, the other variable also increases.\n",
        "\n",
        "* Example: As the temperature rises, ice cream sales also increases.\n",
        "\n",
        "2) Negative correlation:\n",
        "\n",
        "* When one variable increases, the other decreases.\n",
        "\n",
        "Example: As the price of a product increases, its demand typically decreases.\n",
        "\n",
        "3) No correlation:\n",
        "\n",
        "* When two variables are not related, the correlation value is near zero.\n",
        "\n",
        "* Example: The number of books you may not correlate with your height.\n",
        "\n"
      ],
      "metadata": {
        "id": "A-5exTYag3X7"
      }
    },
    {
      "cell_type": "markdown",
      "source": [
        "# 13)\n",
        "\n",
        "Solution:\n",
        "\n",
        "A negative correlation indicates an inverse relationship between tw variables. This means that as one variable increases, the other variable decreases, and vice versa.\n",
        "\n",
        "The strength of the negative correlation is measured by the correlation coefficient, which ranges from 0 to -1.\n",
        "\n",
        "* -1: Perfect negative correlation ( The variable move exactly opposite to each other).\n",
        "\n",
        "* 0: No correlation (no relationship between the variables).\n",
        "\n",
        "Example of Negative Correlation:\n",
        "\n",
        "1) Temperature and heater usage: As the temperature increases, heater usage decreases.\n",
        "\n",
        "2) Product price and demand: As the price of a product increases, its demand typically decreases.\n",
        "\n",
        "3) Study time and social media usage: As time spent studyng increases, time spent on social media decreases.\n",
        "\n",
        "Importance of negative correlation in machine learning:\n",
        "\n",
        "1) Feature selection: Negative correlation can help identify features that are inversly related to the target variable, which may be valuable for model prediction.\n",
        "\n",
        "2) Decision making: Understanding inverse relationships can guide business strategies, such as pricing adjustments to maintain demand.\n",
        "\n",
        "3) Data insights: Negative correlations can highlight underlying patterns or trade-offs between variables."
      ],
      "metadata": {
        "id": "d-jKQT4omYGE"
      }
    },
    {
      "cell_type": "markdown",
      "source": [
        "# 14)\n",
        "\n",
        "Solution:\n",
        "\n",
        "To find the correlation between variables in Python, you can use built-in liberaries like pandas and numpy. These liberaries provide efficient methods to calculate the correlation coefficient, which quantifies the relationship between two variables.\n",
        "\n",
        "Steps to find correlation:\n",
        "\n",
        "1) Using pandas:\n",
        "\n",
        "The pandas library provides the .corr() method to compute correlation coefficients for all numerical variables in a dataset.\n",
        "\n",
        "\n",
        "\n"
      ],
      "metadata": {
        "id": "WwmzFYT5rMgK"
      }
    },
    {
      "cell_type": "code",
      "source": [
        "import pandas as pd\n",
        "\n",
        "# sample data\n",
        "data = {'Age': [23,45,31,35,28], 'Income': [25000,50000,35000,40000,30000], 'Savings': [5000,20000,10000,15000,7000]}\n",
        "\n",
        "df = pd.DataFrame(data)\n",
        "\n",
        "# Compute correlation matrix\n",
        "correlation_matrix = df.corr()\n",
        "print(correlation_matrix)"
      ],
      "metadata": {
        "colab": {
          "base_uri": "https://localhost:8080/"
        },
        "id": "rBwbUw3wuxKy",
        "outputId": "c57d65c5-1316-49cb-894d-ccae6ad6040d"
      },
      "execution_count": null,
      "outputs": [
        {
          "output_type": "stream",
          "name": "stdout",
          "text": [
            "              Age    Income   Savings\n",
            "Age      1.000000  0.996557  0.983062\n",
            "Income   0.996557  1.000000  0.991678\n",
            "Savings  0.983062  0.991678  1.000000\n"
          ]
        }
      ]
    },
    {
      "cell_type": "markdown",
      "source": [
        "* The diagonal values are 1.0, as each variable is perfectly correlated with itself.\n",
        "\n",
        "* The off-diagonal values show pairwise correlation coefficients.\n",
        "\n",
        "2) Using numpy:\n",
        "\n",
        "The numpy library provides the np.corrcoef() function to compute correlation between two arrays."
      ],
      "metadata": {
        "id": "ki4KCei-vz6-"
      }
    },
    {
      "cell_type": "code",
      "source": [
        "import numpy as np\n",
        "\n",
        "# Sample data\n",
        "x = [23,45,31,35,28]                   # Age\n",
        "y = [25000,50000,35000,40000,30000]    # Income\n",
        "\n",
        "# Compute correlation coefficient\n",
        "correlation = np.corrcoef(x, y)[0,1]\n",
        "print(f\"correlation coefficient: {correlation: .2f}\")"
      ],
      "metadata": {
        "colab": {
          "base_uri": "https://localhost:8080/"
        },
        "id": "VjdYQvyowb1Z",
        "outputId": "b50b9b23-a296-4f97-ec76-f0743e860eae"
      },
      "execution_count": null,
      "outputs": [
        {
          "output_type": "stream",
          "name": "stdout",
          "text": [
            "correlation coefficient:  1.00\n"
          ]
        }
      ]
    },
    {
      "cell_type": "markdown",
      "source": [
        "Visualizing Correlation:\n",
        "\n",
        "Using a Heatmap (with seaborn)\n",
        "\n",
        "Heatmaps are an excellent way to isualize correlations in a dataset.\n",
        "\n"
      ],
      "metadata": {
        "id": "t6pmwbnNxtFh"
      }
    },
    {
      "cell_type": "code",
      "source": [
        "import pandas as pd\n",
        "\n",
        "import seaborn as sns\n",
        "import matplotlib.pyplot as plt\n",
        "\n",
        "# Sample data\n",
        "data = {'Age': [23,45,31,35,28], 'Income': [25000,50000,35000,40000,30000], 'Savings': [5000,20000,10000,15000,7000]}\n",
        "\n",
        "df = pd.DataFrame(data)\n",
        "\n",
        "# Correlation matrix\n",
        "correlation_matrix = df.corr()\n",
        "\n",
        "# Heatmap\n",
        "sns.heatmap(correlation_matrix, annot=True, cmap= 'coolwarm')\n",
        "plt.title('Correlation Heatmap')\n",
        "plt.show()"
      ],
      "metadata": {
        "colab": {
          "base_uri": "https://localhost:8080/",
          "height": 452
        },
        "outputId": "81a0fd96-70a2-4342-9c26-0145d4219dde",
        "id": "TS09AglqycSW"
      },
      "execution_count": null,
      "outputs": [
        {
          "output_type": "display_data",
          "data": {
            "text/plain": [
              "<Figure size 640x480 with 2 Axes>"
            ],
            "image/png": "[encoded data removed]"
          },
          "metadata": {}
        }
      ]
    },
    {
      "cell_type": "markdown",
      "source": [
        "# 15)\n",
        "\n",
        "Solution:\n",
        "\n",
        "Causation:\n",
        "\n",
        "causation implies that one variable directly causes a change in another. It establishes a cause and effect relationship between two variables.\n",
        "\n",
        "* In causation, changes in one variable are responsible for change in the other.\n",
        "\n",
        "* It is deterministic and directional (i.e. A cause B).\n",
        "\n",
        "For example:\n",
        "\n",
        "* Increasing the speed of a car causes the braking distance to increase.\n",
        "\n",
        "* Smoking causes lung cancer.\n",
        "\n",
        "Key differences between correlation and causation:\n",
        "\n",
        "CORRELATION:\n",
        "\n",
        "* Indicates an association between two variables.\n",
        "\n",
        "* Example:"
      ],
      "metadata": {
        "id": "zAnM-l_Uzo4R"
      }
    },
    {
      "cell_type": "code",
      "source": [
        "import seaborn as sns\n",
        "import matplotlib.pyplot as plt\n",
        "import numpy as np\n",
        "\n",
        "# Example data : Temperature vs icecream sales\n",
        "temperature = [30,35,40,45,50]\n",
        "ice_cream_sales = [100,150,200,250,300]\n",
        "\n",
        "# Scatter plot\n",
        "sns.scatterplot(x=temperature, y=ice_cream_sales)\n",
        "plt.title(\"Correlation Example: Temperature vs Ice Cream Sales\")\n",
        "plt.xlabel(\"Temperature (Celsius)\")\n",
        "plt.ylabel(\"Ice cream Sales\")\n",
        "plt.show()"
      ],
      "metadata": {
        "colab": {
          "base_uri": "https://localhost:8080/",
          "height": 472
        },
        "id": "YnxIpdv-1mjS",
        "outputId": "6e1a8e5f-40ac-4a1c-dce6-d4ba2fd0a0eb"
      },
      "execution_count": null,
      "outputs": [
        {
          "output_type": "display_data",
          "data": {
            "text/plain": [
              "<Figure size 640x480 with 1 Axes>"
            ],
            "image/png": "[encoded data removed]"
          },
          "metadata": {}
        }
      ]
    },
    {
      "cell_type": "markdown",
      "source": [
        "* Observation: Higher temperature are correlated with higher ice cream sales, but temperature does not necessarily cause people to buy ice cream.\n",
        "\n",
        "2) CAUSATION:\n",
        "\n",
        "* Establishes a direct cause-and-effect relationships.\n",
        "\n",
        "Causation Example:\n",
        "\n",
        "A well-designed experiment can show causation. For example:\n",
        "\n",
        "* Researchers test whether a new drug reduces blood pressure in patients using a randomized controlled trial."
      ],
      "metadata": {
        "id": "h6m4KoKI3Yf7"
      }
    },
    {
      "cell_type": "markdown",
      "source": [
        "# 16)\n",
        "\n",
        "Solution:\n",
        "\n",
        "Optimizer:\n",
        "\n",
        "In machine learning and deep learning, an optimizer is an algorithm used to adjust the parameter (weights and bases) of a model to minimizes the loss function during training. Optimizers guide the learning process by determining how the model's parameters should be updated based on the computed gradients from the loss function.\n",
        "\n",
        "Role of an Optimizer:\n",
        "\n",
        "1) Minimizes the error (loss).\n",
        "\n",
        "2) Speeds up convergence during training.\n",
        "\n",
        "3) Improves the model's accuracy and performance.\n",
        "\n",
        "Types of optimizers:\n",
        "\n",
        "1) Gradient Descent (GD):\n",
        "\n",
        "The most basic optimization algorithm that minimizes the loss function by iteratively updating model parameters in the opposite direction of the gradient.\n",
        "\n",
        "2) Stochastic Gradient Descent (SGD):\n",
        "\n",
        "Unlike gradient descent, which calculates the gradient over the entire dataset, SGD updates parameters using one data point (or a small batch) at a time.\n",
        "\n",
        "* pros: Faster and more efficient for large datasets.\n",
        "\n",
        "* Cons: Noisy updates can cause fluctuations during optimization.\n",
        "\n",
        "3) Mini-Batch Gradient Descent:\n",
        "\n",
        "A compromise between Gradient descent and SGD. It divides the dataset into small batches and updates the parameters using the gradient of each batch.\n",
        "\n",
        "4) Momentum:\n",
        "\n",
        "Momentum builds upon SGD by adding a fraction of the previous update to current update, helping the optimizer move faster and avoid oscillations.\n",
        "\n",
        "5) Adagrad (Adaptive Gradient Algorithm):\n",
        "\n",
        "Adagrad adapts the learning rate for each parameter based on its updates. It works well for sparse data.\n",
        "\n",
        "6) RMSProp (Root Mean Square Propagation):\n",
        "\n",
        "RMSProp adjust the learning rate for each parameter using an exponentially decaying average of past gradients. It works well for non-stationary objectives like neural networks.\n",
        "\n",
        "Adam (Adoptive Moment Estimation):\n",
        "\n",
        "Adam combines momentum and RMSProp, making it one of the most popular and effective optimizers. It uses moving averages of both gradient and squared gradients to adopt the learning rate.\n",
        "\n"
      ],
      "metadata": {
        "id": "mVgPJg2y4ZEi"
      }
    },
    {
      "cell_type": "markdown",
      "source": [
        "# 17)\n",
        "\n",
        "Solution:\n",
        "\n",
        "sklearn.linear_model is a module in the Scikit-learn library in Python. It provides various linear models for regression and classification tasks. These models are based on linear relationships between the input  features and the target variable.\n",
        "\n",
        "Key features of sklearn.linear_model:\n",
        "\n",
        "* Implements a variety of linear models including simple linear regression, logistic regression, ridge regression, and more.\n",
        "\n",
        "* Supports regularization techniques like Lasso and Ridge for improving model performance.\n",
        "\n",
        "* Provides efficient algorithms for training and predicting.\n",
        "* Works seamlessly with other Scikit-learn modules like pipelines and preprocessing.\n",
        "\n",
        "Commonly used models in sklearn.linear_model:\n",
        "\n",
        "1) Linear Regression (LinearRegression):\n",
        "\n",
        "* Used for predicting continuous target variables.\n",
        "\n"
      ],
      "metadata": {
        "id": "j64uQEuaVZru"
      }
    },
    {
      "cell_type": "code",
      "source": [
        "from sklearn.linear_model import LinearRegression\n",
        "\n",
        "model = LinearRegression()\n",
        "model.fit(X_train, y_train)\n",
        "predictions = model.predict(X_test)"
      ],
      "metadata": {
        "id": "t2EZmxzhX_VE"
      },
      "execution_count": null,
      "outputs": []
    },
    {
      "cell_type": "markdown",
      "source": [
        "2) Logistic Regression (LogisticRegression):\n",
        "\n",
        "* Used for binary or multi-class classification tasks.\n",
        "\n",
        "* Uses a logistic function to model probabilities."
      ],
      "metadata": {
        "id": "PN7NK3AKYfxR"
      }
    },
    {
      "cell_type": "code",
      "source": [
        "from sklearn.linear_model import LogisticRegression\n",
        "\n",
        "model = LogisticRegression\n",
        "model.fit(X_train, y_train)\n",
        "predictions = model.predict(X_test)"
      ],
      "metadata": {
        "id": "DE879U6UY9L_"
      },
      "execution_count": null,
      "outputs": []
    },
    {
      "cell_type": "markdown",
      "source": [
        "3) Ridge Regression (Ridge):\n",
        "\n",
        "* Linear regression with L2 regularizationto prevent overfitting."
      ],
      "metadata": {
        "id": "baBa5JE0Zin3"
      }
    },
    {
      "cell_type": "code",
      "source": [
        "from sklearn.linear_model import Ridge\n",
        "\n",
        "model = Ridge(alpha=1.0)\n",
        "model.fit(X_train, y_train)"
      ],
      "metadata": {
        "id": "UAoShUpQaAMJ"
      },
      "execution_count": null,
      "outputs": []
    },
    {
      "cell_type": "markdown",
      "source": [
        "4) Lasso Regression (Lasso):\n",
        "\n",
        "* Linear regression with L1 regularization, which can shrink coefficients to zero for feature selection."
      ],
      "metadata": {
        "id": "i_H-wHwZaPzf"
      }
    },
    {
      "cell_type": "code",
      "source": [
        "from sklearn.linear_model import Lasso\n",
        "\n",
        "model = Lasso(alpha=1.0)\n",
        "model.fit(X_train, y_train)"
      ],
      "metadata": {
        "id": "vPO65NcPbBgi"
      },
      "execution_count": null,
      "outputs": []
    },
    {
      "cell_type": "markdown",
      "source": [
        "5) Elastic Net (Elastic Net):\n",
        "\n",
        "* Combines L1 and L2 regularization."
      ],
      "metadata": {
        "id": "wHqXmOWEbKRO"
      }
    },
    {
      "cell_type": "code",
      "source": [
        "from sklearn.linear_model import ElasticNet\n",
        "\n",
        "model = Ridge(alpha=1.0, L1_ratio=0.5)\n",
        "model.fit(X_train, y_train)"
      ],
      "metadata": {
        "id": "NklWtFJobeN2"
      },
      "execution_count": null,
      "outputs": []
    },
    {
      "cell_type": "markdown",
      "source": [
        "6) Bayesian Ridge Regression (BayessianRidge):\n",
        "\n",
        "* Used Bayesian inference for regression tasks."
      ],
      "metadata": {
        "id": "udgIgLj8b0sU"
      }
    },
    {
      "cell_type": "code",
      "source": [
        "from sklearn.linear_model import BayesianRidge\n",
        "\n",
        "model = BaysianRidge()\n",
        "model.fit(X_train, y_train)"
      ],
      "metadata": {
        "id": "Krl8LL4CcJnI"
      },
      "execution_count": null,
      "outputs": []
    },
    {
      "cell_type": "markdown",
      "source": [],
      "metadata": {
        "id": "Oka_C7FQcn0C"
      }
    },
    {
      "cell_type": "markdown",
      "source": [
        "sklearn.linear_model is a powerful module for linear modeling tasks in Scikit-learn. It supports a variety of models for both regression and classification, making ithighly versatile and essential for machine learning machine learning tasks."
      ],
      "metadata": {
        "id": "KQDHaez1cn3I"
      }
    },
    {
      "cell_type": "markdown",
      "source": [
        "# 18)\n",
        "\n",
        "Solution:\n",
        "\n",
        "The fit() method is a key function in Scikit-learn that is used to train a machine learning model on the given data.it adjusts the model parameters (e.g., weights, biases) based on the input feature and target labels to minimize the error or loss.\n",
        "\n",
        "* Purpose: To learn patterns and relationships from the training data.\n",
        "\n",
        "* Outcome: The model's parameters are optimized for making predictions on unseen data.\n",
        "\n",
        "How fit() works:\n",
        "\n",
        "1) Takes in input features (x) and target labels (y).\n",
        "\n",
        "2) Computes the gradients of the loss function with respect to model parameters.\n",
        "\n",
        "3) Updates the parameters iteratively using an optimizer (e.g., gradient descent)\n",
        "\n",
        "4) Stores the learned parameters in the model for future predictions.\n",
        "\n",
        "Arguments for fit():\n",
        "\n",
        "1) x: Input Features\n",
        "\n",
        "* A 2D array-like structure (e.g., NumPy array, Pandas DataFrame) of shape (n_samples, n_features).\n",
        "\n",
        "* Represents the independent variables used for tracing the model.\n",
        "\n",
        "2) y: Target Labels:\n",
        "\n",
        "* A 1D or 2D array like structure of shape (n_samples) or (n_samples, n_targets).\n",
        "\n",
        "* Represents the depedent variables or the true values for the input features.\n",
        "\n",
        "3) Optimal Parameters:\n",
        "\n",
        "* Some models accepts additional parameters, such as:\n",
        "\n",
        "  * sample_weight: Array of weights for each sample, used to give different importance to samples.\n",
        "\n",
        "  * epochs, batch_size, etc., for iterative training methods (e.g., neural networks).  \n",
        "\n",
        "  Example with Linear Regression:\n"
      ],
      "metadata": {
        "id": "YKRRmL4qdOaB"
      }
    },
    {
      "cell_type": "code",
      "source": [
        "from sklearn.linear_model import LinearRegression\n",
        "import numpy as np\n",
        "\n",
        "#input features (X) and target labels (y)\n",
        "X = np.array([[1], [2], [3], [4], [5]])\n",
        "y = np.array([1.5, 3.0, 4.5, 6.0, 7.5])\n",
        "\n",
        "# Initialize the model\n",
        "model = LinearRegression()\n",
        "\n",
        "# Train the model using fit()\n",
        "model.fit(x,y)\n",
        "\n",
        "# The model learns the relationship: y = 1.5* x\n",
        "print(\"Coefficient (Weight):\", model.coef_)\n",
        "print(\"Intercept (Bias):\", model.intercept_)"
      ],
      "metadata": {
        "id": "h2DSr92tiZma"
      },
      "execution_count": null,
      "outputs": []
    },
    {
      "cell_type": "markdown",
      "source": [
        "# 19)\n",
        "\n",
        "Solution:\n",
        "\n",
        "The predict() method in Scikit-learn is used to make predictions on new, unseen data after the model has been trained using model.fit(). It generates predictions based on the learned patterns and parameters from the training data.\n",
        "\n",
        "* Purpose: To predict target values (output) for a given set of input features (test data or new data).\n",
        "\n",
        "* Outcomes: An array of predicted values or classes, depending on the type of machine learning model.\n",
        "\n",
        "Argument for predict():\n",
        "\n",
        "1) X: Input features\n",
        "\n",
        "* A 2D array like structure (e.g., NumPy array, Pandas DataFrame) of shape (n_sample, n_features).\n",
        "\n",
        "* Represents the independent variables for which predictions are required.\n",
        "\n",
        "2) No target labels\n",
        "\n",
        "* Unlike fit(), predict() does not require the target variable (y).\n",
        "\n",
        "* It only takes the input features (X) to generate predictions.\n",
        "\n",
        "Example with Linear Regression:"
      ],
      "metadata": {
        "id": "i-Jsu57JkU6i"
      }
    },
    {
      "cell_type": "code",
      "source": [
        "from sklearn.linear_model import LinearRegression\n",
        "import numpy as np\n",
        "\n",
        "#input features (X) and target labels (y)\n",
        "X = np.array([[1], [2], [3], [4], [5]])\n",
        "y = np.array([1.5, 3.0, 4.5, 6.0, 7.5])\n",
        "\n",
        "# Initialize the model\n",
        "model = LinearRegression()\n",
        "\n",
        "# Train the model using fit()\n",
        "model.fit(X,y)\n",
        "\n",
        "# Make predictions on new data\n",
        "X_new = np.array([[6], [7]])\n",
        "predictions = model.predict(X_new)\n",
        "print(\"Predicted Values:\", predictions)"
      ],
      "metadata": {
        "colab": {
          "base_uri": "https://localhost:8080/"
        },
        "id": "FRbJnOcpndxL",
        "outputId": "5801275e-e115-44de-a7e9-82c2f57bddf0"
      },
      "execution_count": null,
      "outputs": [
        {
          "output_type": "stream",
          "name": "stdout",
          "text": [
            "Predicted Values: [ 9.  10.5]\n"
          ]
        }
      ]
    },
    {
      "cell_type": "markdown",
      "source": [
        "For different types of models:\n",
        "\n",
        "1)Regression models:\n",
        "\n",
        "* predict() outputs continuous values(e.g., house prices).\n",
        "\n",
        "* Example: Linear Regression, Ridge Regression.\n",
        "\n",
        "2) Classification models:\n",
        "\n",
        "* predict() outputs discrete classes (e.g., 0 or 1 for binary classification).\n",
        "\n",
        "* Example: Logistic Regression, support vector machines (SVMs).\n",
        "\n",
        "3) Clustering models:\n",
        "\n",
        "* predict() outputs cluster labels.\n",
        "\n",
        "* Example: K-means, DBSCAN."
      ],
      "metadata": {
        "id": "f4gEVF2AolFo"
      }
    },
    {
      "cell_type": "markdown",
      "source": [
        "# 20)\n",
        "\n",
        "Solution:\n",
        "\n",
        "In data analysis and statistics, variables are classified into continuous and categorical based on the type of data they represent.\n",
        "\n",
        "1) Continuous variables:\n",
        "\n",
        "A continuous variable represents the numerical data that can take any value within a range. These values are typically measurable and can be infinitely divided into smaller increments.\n",
        "\n",
        "Key characterstics:\n",
        "\n",
        "* Can take on any value within a given interval.\n",
        "\n",
        "* Often represents physical quantities like height, weight or temperature.\n",
        "\n",
        "* Values are real numbers, and decimal points are possible.\n",
        "\n",
        "* Allow mathematical operations like addition, substraction and overaging.\n",
        "\n",
        "Examples:\n",
        "\n",
        "* Height (e.g., 5.4 feet, 6.1 feet)\n",
        "* Weight (e.g., 60.5 kg, 72.3 kg)\n",
        "* Temperature (e.g., 37.2°C, 98.6°F)\n",
        "* Time (e.g., 2.5 hours, 10.75 seconds)\n",
        "\n",
        "Visualization:\n",
        "\n",
        "* Histogram\n",
        "* Line charts\n",
        "* Box Plots\n",
        "\n",
        "2) Categorical Variables:\n",
        "\n",
        "A categorical variable represents data that can be divided into distinct groups or categories. These variables describe qualities or characterstics and not inherently numerical.\n",
        "\n",
        "Key characterstics:\n",
        "\n",
        "* Represents discrete categories or groups.\n",
        "\n",
        "* Cannor be meaningfully added or averaged.\n",
        "\n",
        "* Categories can be nominal or ordinal (ordered).\n",
        "\n",
        "Types of Categorical Variables:\n",
        "\n",
        "1) Nominal:\n",
        "\n",
        "* Categories have a meaningful order but no fixed interval.\n",
        "* Examples: Education level (High school, Bachlor's, Master's), Customer satisfaction (Low, medium, high).\n",
        "\n",
        "2) Ordinal:\n",
        "\n",
        "* Categories have a meaningful order but no fixed interval.\n",
        "* Examples:\n",
        "  * Gender (e.g, male, female)\n",
        "  * Colors (Red, Green, Blue)\n",
        "  * Marital status (e.g., Single, Married, Divorced)\n",
        "\n",
        "Visualization:\n",
        "* Bar charts\n",
        "* Pie charts\n",
        "\n"
      ],
      "metadata": {
        "id": "DN2hDuuNqDDZ"
      }
    },
    {
      "cell_type": "markdown",
      "source": [
        "# 21)\n",
        "\n",
        "Solution:\n",
        "\n",
        "Feature Scaling:\n",
        "\n",
        "Feature scaling is a technique used to standardize or normalize the range of the independent variables (features) in a dataset. It ensures that all featuresw contribute equally to the model's performance, especially when they have different units or scales\n",
        "\n",
        "Importance of feature scaling:\n",
        "\n",
        "1) Improves model's performance:\n",
        "* Some machine learning algorithms are sensitive to the magnitude of feature values. Large-scale differences between features can leads to biased predictions.\n",
        "\n",
        "2) Ensures faster convergence:\n",
        "* Gradient-based optimization methods (e.g., Gradient Descent) converge faster when features are scaled.\n",
        "\n",
        "3) Prevents dominance by larger features:\n",
        "* Features with larger scales can dominate those with smaller scales, skewing model performance.\n",
        "\n",
        "4) Helps distance-based algorithms:\n",
        "* Algorithms like K-Nearest Neighbors (K-NN) and support vector machines (SVM) rely on distances, which are affected by unscaled features.\n",
        "\n",
        "Use of feature scaling in machine learning:\n",
        "\n",
        "1) Maintains proportionality:\n",
        "* Scaling ensures all features are equally important in determining the outcome.\n",
        "\n",
        "2) Improves accuracy:\n",
        "\n",
        "* It avoids scenarios where certain features with higher ranges overshadow others.\n",
        "\n",
        "3) Prepares data for regularization:\n",
        "\n",
        "* Methods like Ridge or Lasso regression pendize large coefficients. Scaling ensures fair penalty distribution.\n",
        "\n",
        "4) Improves Interpretability:\n",
        "* Scaled features allow better understanding of the model coefficients and their relationship.\n",
        "\n",
        "Example:\n"
      ],
      "metadata": {
        "id": "UqO8xvATsfZZ"
      }
    },
    {
      "cell_type": "code",
      "source": [
        "from sklearn.preprocessing import StandardScaler, MinMaxScaler\n",
        "import numpy as np\n",
        "\n",
        "# Sample data\n",
        "data = np.array([[100,0.5], [200,0.75], [300,1.0]])\n",
        "\n",
        "# Standardization\n",
        "scaler = StandardScaler()\n",
        "standardized_data = scaler.fit_transform(data)\n",
        "print(\"Standardized Data: \\n\", standardized_data)\n",
        "\n",
        "# Normalization\n",
        "scaler = MinMaxScaler()\n",
        "normalized_data = scaler.fit_transform(data)\n",
        "print(\"\\nNormalized Data:\\n\", normalized_data)"
      ],
      "metadata": {
        "colab": {
          "base_uri": "https://localhost:8080/"
        },
        "id": "6GrZ6inmxCfn",
        "outputId": "c80c9455-34ca-4205-a1b8-f1c34e5a4622"
      },
      "execution_count": 2,
      "outputs": [
        {
          "output_type": "stream",
          "name": "stdout",
          "text": [
            "Standardized Data: \n",
            " [[-1.22474487 -1.22474487]\n",
            " [ 0.          0.        ]\n",
            " [ 1.22474487  1.22474487]]\n",
            "\n",
            "Normalized Data:\n",
            " [[0.  0. ]\n",
            " [0.5 0.5]\n",
            " [1.  1. ]]\n"
          ]
        }
      ]
    },
    {
      "cell_type": "markdown",
      "source": [
        "# 22)\n",
        "\n",
        "Solution:\n",
        "\n",
        "In python, feature scaling can be performed using liberaries like scikit-learn, which provides easy-to-use tools for standardization and normalization. Common methods for scaling features:\n",
        "\n",
        "1) Standardization (z-score scaling):\n",
        "\n",
        "Standardization scales the data to have a mean of 0 and a standard deviation of 1.\n",
        "\n"
      ],
      "metadata": {
        "id": "tm5n6aF4zgKJ"
      }
    },
    {
      "cell_type": "code",
      "source": [
        "from sklearn.preprocessing import StandardScaler\n",
        "import numpy as np\n",
        "\n",
        "# Sample data\n",
        "data = np.array([[10,20], [15,25], [30,50]])\n",
        "\n",
        "# Initialize scaler\n",
        "scaler = StandardScaler()\n",
        "\n",
        "# Fit and transform the data\n",
        "scaled_data = scaler.fit_transform(data)\n",
        "print(\"Standardized Data:\\n\", scaled_data)"
      ],
      "metadata": {
        "colab": {
          "base_uri": "https://localhost:8080/"
        },
        "id": "nQKXnapVowdA",
        "outputId": "7a9499dc-95d3-4316-a54b-48d70bef9f5f"
      },
      "execution_count": 1,
      "outputs": [
        {
          "output_type": "stream",
          "name": "stdout",
          "text": [
            "Standardized Data:\n",
            " [[-0.98058068 -0.88900089]\n",
            " [-0.39223227 -0.50800051]\n",
            " [ 1.37281295  1.3970014 ]]\n"
          ]
        }
      ]
    },
    {
      "cell_type": "markdown",
      "source": [
        "2) Normalization (Min-Max scaling):\n",
        "\n",
        "Normalization scales the data to a fixed range, typically [0,1].\n"
      ],
      "metadata": {
        "id": "dcYMwqavp0xZ"
      }
    },
    {
      "cell_type": "code",
      "source": [
        "from sklearn.preprocessing import MinMaxScaler\n",
        "import numpy as np\n",
        "\n",
        "# Sample data\n",
        "data = np.array([[10,20], [15,25], [30,50]])\n",
        "\n",
        "# Initialize scaler\n",
        "scaler = MinMaxScaler()\n",
        "\n",
        "# Fit and transform the data\n",
        "normalized_data = scaler.fit_transform(data)\n",
        "print(\"Normalized Data:\\n\", normalized_data)"
      ],
      "metadata": {
        "colab": {
          "base_uri": "https://localhost:8080/"
        },
        "outputId": "28b665d4-0129-4c01-d839-1e5cfc7fc03c",
        "id": "qPQ5b-80qI5h"
      },
      "execution_count": 2,
      "outputs": [
        {
          "output_type": "stream",
          "name": "stdout",
          "text": [
            "Normalized Data:\n",
            " [[0.         0.        ]\n",
            " [0.25       0.16666667]\n",
            " [1.         1.        ]]\n"
          ]
        }
      ]
    },
    {
      "cell_type": "markdown",
      "source": [
        "3) Robust Scaling:\n",
        "\n",
        "Robust Scaling uses the median and interquartile range (IQR), making it robust to outliers."
      ],
      "metadata": {
        "id": "bRCyyIGAqo_N"
      }
    },
    {
      "cell_type": "code",
      "source": [
        "from sklearn.preprocessing import RobustScaler\n",
        "import numpy as np\n",
        "\n",
        "# Sample data\n",
        "data = np.array([[10,20], [15,25], [30,50], [1000,2000]])\n",
        "\n",
        "# Initialize scaler\n",
        "scaler = RobustScaler()\n",
        "\n",
        "# Fit and transform the data\n",
        "robust_scaled_data = scaler.fit_transform(data)\n",
        "print(\"Robust Scaled Data:\\n\", robust_scaled_data)"
      ],
      "metadata": {
        "colab": {
          "base_uri": "https://localhost:8080/"
        },
        "outputId": "a3fefa71-5447-47eb-dccd-860f88fc864b",
        "id": "nadKcUwVq8un"
      },
      "execution_count": 3,
      "outputs": [
        {
          "output_type": "stream",
          "name": "stdout",
          "text": [
            "Robust Scaled Data:\n",
            " [[-0.04830918 -0.03406326]\n",
            " [-0.02898551 -0.0243309 ]\n",
            " [ 0.02898551  0.0243309 ]\n",
            " [ 3.77777778  3.81995134]]\n"
          ]
        }
      ]
    },
    {
      "cell_type": "markdown",
      "source": [
        "4) MaxAbs scaling:\n",
        "\n",
        "scales data by dvdng each feature by its maxmum absolute value."
      ],
      "metadata": {
        "id": "gOloaR0arfJT"
      }
    },
    {
      "cell_type": "code",
      "source": [
        "from sklearn.preprocessing import MaxAbsScaler\n",
        "import numpy as np\n",
        "\n",
        "# Sample data\n",
        "data = np.array([[10,20], [15,25], [30,50]])\n",
        "\n",
        "# Initialize scaler\n",
        "scaler = MaxAbsScaler()\n",
        "\n",
        "# Fit and transform the data\n",
        "maxabs_scaled_data = scaler.fit_transform(data)\n",
        "print(\"MaxAbs Scaled Data:\\n\", maxabs_scaled_data)"
      ],
      "metadata": {
        "colab": {
          "base_uri": "https://localhost:8080/"
        },
        "outputId": "34966845-ca32-4660-eea8-e16dfde6d06e",
        "id": "0ioLTaCjrv-H"
      },
      "execution_count": 4,
      "outputs": [
        {
          "output_type": "stream",
          "name": "stdout",
          "text": [
            "MaxAbs Scaled Data:\n",
            " [[0.33333333 0.4       ]\n",
            " [0.5        0.5       ]\n",
            " [1.         1.        ]]\n"
          ]
        }
      ]
    },
    {
      "cell_type": "markdown",
      "source": [
        "5) Scalng DataFrame columns (Usng pandas):\n",
        "\n",
        "You can scale specfic columns of a pandas dataframe."
      ],
      "metadata": {
        "id": "NfQPXkt1sUmH"
      }
    },
    {
      "cell_type": "code",
      "source": [
        "from sklearn.preprocessing import StandardScaler\n",
        "import pandas as pd\n",
        "\n",
        "# Sample data\n",
        "data = pd.DataFrame({'Height': [150, 160, 170], 'Weight': [50, 60, 70]})\n",
        "\n",
        "# Initialize scaler\n",
        "scaler = MinMaxScaler()\n",
        "\n",
        "# Fit and transform the data\n",
        "data[['Height', 'Weight']] = scaler.fit_transform(data[['Height', 'Weight']])\n",
        "print(\"Scaled DataFrame:\\n\",data)"
      ],
      "metadata": {
        "colab": {
          "base_uri": "https://localhost:8080/"
        },
        "outputId": "2386ab14-ff69-4632-856e-736910f3c361",
        "id": "YkIdvbc3srm0"
      },
      "execution_count": 5,
      "outputs": [
        {
          "output_type": "stream",
          "name": "stdout",
          "text": [
            "Scaled DataFrame:\n",
            "    Height  Weight\n",
            "0     0.0     0.0\n",
            "1     0.5     0.5\n",
            "2     1.0     1.0\n"
          ]
        }
      ]
    },
    {
      "cell_type": "markdown",
      "source": [
        "6) Scaling in pipelines:\n",
        "\n",
        "When working with machine learning models, it is common to include scaling as a part of pipeline.\n"
      ],
      "metadata": {
        "id": "ITS0SDs3uIR4"
      }
    },
    {
      "cell_type": "code",
      "source": [
        "from sklearn.preprocessing import StandardScaler\n",
        "from sklearn.pipeline import Pipeline\n",
        "from sklearn.linear_model import LogisticRegression\n",
        "\n",
        "# Define a pipeline\n",
        "pipeline = Pipeline([('scaler', StandardScaler()), ('classifier', LogisticRegression())])\n",
        "\n",
        "# Fit pipeline on sample data\n",
        "X = [[10,20], [15,25], [30,50]]\n",
        "y = [0,1,0]\n",
        "pipeline.fit(X,y)\n",
        "\n",
        "# Make predictions\n",
        "predictions = pipeline.predict([[20,30]])\n",
        "print(\"Predictions:\", predictions)"
      ],
      "metadata": {
        "colab": {
          "base_uri": "https://localhost:8080/"
        },
        "outputId": "cd62a860-3aa3-4304-dc76-de4396383750",
        "id": "buudZcyJugkL"
      },
      "execution_count": 8,
      "outputs": [
        {
          "output_type": "stream",
          "name": "stdout",
          "text": [
            "Predictions: [0]\n"
          ]
        }
      ]
    },
    {
      "cell_type": "markdown",
      "source": [
        "# 23)\n",
        "\n",
        "Solution:\n",
        "\n",
        "sklearn.preprocessing is a module in the scikit-learn library used to preprocess and transform data before appluing machine learning algorithms. It provides tools for scaling, normalizing, encoding and imputing missing values, which are essential tests for preparing data for analysis.\n",
        "\n",
        "Why Use sklearn.preprocessing:\n",
        "\n",
        "1) Handle incnsistant data: Many machine learning models perform poorly with raw, unprocessed data.\n",
        "\n",
        "2) Ensure feature compatibility: Models like linear regression, SVM, and k-NN are sensitive to feature scales.\n",
        "\n",
        "3) Prepare data for modelling: Clean, scaled and encoded data leads to better performance and faster convergence.\n",
        "\n",
        "Key functionalities of sklearn.preprocessing:\n",
        "\n",
        "1) Feature scaling and normalization:\n",
        "\n",
        "* StandardScaler: Standardizes features by removing the mean and scaling to unit variance.\n",
        "\n",
        "* MinMaxScaler: Scales features to a specified range, typically [0,1].\n",
        "\n",
        "* RobustScaler: Scales data using the median and IQR, robust to outliers.\n",
        "\n",
        "* Normalizer: Normalizes feature vectors to unit norm (L1, L2, or max).\n",
        "\n",
        "2) Encoding Categorical data:\n",
        "\n",
        "* LabelEncoder: Converts categorical labels into numeric labels.\n",
        "\n",
        "* OneHotEncoder: Encodes categorical features as integers while maintaining order.\n",
        "\n",
        "3) Handling missing values:\n",
        "\n",
        "* Imputer: Fills in missing values using mean, median or a constant (deprecatedin newer versions, repalced by SimpleImputer).\n",
        "\n",
        "* SimpleImputer: Imputes missing values using strategies like mean,median or most frequant.\n",
        "\n",
        "4) Feature Transformation:\n",
        "\n",
        "* PolynomialFeatures: Generates polynomial and interaction features.\n",
        "\n",
        "* PowerTransformer: Applies power transformations like Box-Cox or Yeo-Jhonson to make dat more Guassian- like.\n",
        "\n",
        "* QuantileTransformer: Transforms data to follow a uniform or normal distribution.\n",
        "\n",
        "5) Binarization:\n",
        "\n",
        "* Binarizer: Converts numeric values to binary (0 or 1) based on a threshold.\n",
        "\n",
        "Advantages of using sklearn.preprocessing:\n",
        "\n",
        "1) Efficiency: Preprocessing methods are optimized for performance.\n",
        "\n",
        "2) Versatility: Supports various preprocessing techniques for numerical or categorical data.\n",
        "\n",
        "3) Integration: Easily integrates with other scikit-learn tools like pipelines.\n",
        "\n",
        "4) Consistency: Ensures consistent transformations between training and testing data.\n",
        "\n"
      ],
      "metadata": {
        "id": "9SPn-NfaxxnA"
      }
    },
    {
      "cell_type": "markdown",
      "source": [
        "# 24)\n",
        "\n",
        "Solution:\n",
        "\n",
        "Splittng data for model fitting (Training and testing) in Python:\n",
        "\n",
        "When buildng machne learnng models it is essential to split the dataset into separate parts to evaluate the model's performance accurately. The common approach is to divide the data into two sets:\n",
        "\n",
        "1) Training set: Used to train the model.\n",
        "\n",
        "2) Testing test: Used to evaluate the model's performance on unseen data.\n",
        "\n",
        "Steps to split data:\n",
        "\n",
        "1) Import necessary liberaries:\n",
        "\n",
        "Python's scikit-learn library provides a function called train_test_split to perform this split efficiently."
      ],
      "metadata": {
        "id": "HtO8rbSf4G47"
      }
    },
    {
      "cell_type": "code",
      "source": [
        "from sklearn.model_selection import train_test_split"
      ],
      "metadata": {
        "id": "H5MaeV2S5__g"
      },
      "execution_count": null,
      "outputs": []
    },
    {
      "cell_type": "markdown",
      "source": [
        "2) Load the dataset: You can load a dataset using pandas, numpy, or other methods. For example:"
      ],
      "metadata": {
        "id": "iqbRNPq96CPs"
      }
    },
    {
      "cell_type": "code",
      "source": [
        "import pandas as pd\n",
        "\n",
        "# Example dataset\n",
        "data = pd.read_csv('data.csv')\n",
        "# Load your dataset\n",
        "X = data.drop('target', axis=1)\n",
        "# Features\n",
        "y = data['target']\n",
        "#target variable"
      ],
      "metadata": {
        "id": "a8rKP9WP6cbJ"
      },
      "execution_count": null,
      "outputs": []
    },
    {
      "cell_type": "markdown",
      "source": [
        "3) Split the data: Use train_test_split to divide the data into training and testing sets."
      ],
      "metadata": {
        "id": "FZ2LLFef6eeH"
      }
    },
    {
      "cell_type": "code",
      "source": [
        "X_train, X_test, y_train, y_test = train_test_split(X,y, test_size = 0.2, random_state= 42)"
      ],
      "metadata": {
        "id": "iHN_N5l265KX"
      },
      "execution_count": null,
      "outputs": []
    },
    {
      "cell_type": "markdown",
      "source": [
        "test_size=0.2: Reserve 20% of the data for testing and 80% for training.\n",
        "\n",
        "tandom_state=42: Ensures reproducibility by setting a seed.\n",
        "\n",
        "4) Train and test the model:\n",
        "\n",
        "Train the model using the testing data:\n",
        "predictions= model.predict(X_test)\n",
        "\n",
        "Need to split the data:\n",
        "\n",
        "Avoid overfitting: By testing on unseen data, you ensure the model is not just memorizing the training data.\n",
        "\n",
        "Assess Performance: It helps in determining hoe the model generalizes to new data."
      ],
      "metadata": {
        "id": "hmWhHHkG67-V"
      }
    },
    {
      "cell_type": "markdown",
      "source": [
        "# 25)\n",
        "\n",
        "Solution:\n",
        "\n",
        "Data Encoding:\n",
        "\n",
        "Data encoding is a process of converting categorical or textual data into numerical formats that can be understood by machine learning algorithms. Since most algorithms work with numerical data, encoding is an essential preprocessing step for handling non-numeric features.\n",
        "\n",
        "Importance of data encoding:\n",
        "\n",
        "* Machine learning models like linear regression, SVM and neural networks require numerical input.\n",
        "\n",
        "* Proper encoding ensures that models interpret the data correctly, avoiding bias or incorrect assumptions about the feature relationships.\n",
        "\n",
        "Types of data encoding:\n",
        "\n",
        "1) Label encoding:\n",
        "Assigns a unique integer to each category.\n",
        "\n",
        "Example:\n",
        "\n",
        "\n"
      ],
      "metadata": {
        "id": "6m-7v7z27wZU"
      }
    },
    {
      "cell_type": "code",
      "source": [
        "from sklearn.preprocessing import LabelEncoder\n",
        "\n",
        "data = ['cat', 'dog', 'mouse']\n",
        "encoder = LabelEncoder()\n",
        "encoded_data = encoder.fit_transform(data)\n",
        "print(encoded_data)"
      ],
      "metadata": {
        "colab": {
          "base_uri": "https://localhost:8080/"
        },
        "id": "f27Ks4DY-QpC",
        "outputId": "02a84295-4ba0-4634-ac2b-8a83a06d0f7d"
      },
      "execution_count": 9,
      "outputs": [
        {
          "output_type": "stream",
          "name": "stdout",
          "text": [
            "[0 1 2]\n"
          ]
        }
      ]
    },
    {
      "cell_type": "markdown",
      "source": [
        "Pros:\n",
        "* simple and quick.\n",
        "*suitable for ordinal data.\n",
        "\n",
        "Cons:\n",
        "* Can intoduce ordinal relationships where none exists (e.g., 0<1<2).\n",
        "\n",
        "2) One-Hot Encoding: Creates binary columns for each category.\n",
        "\n",
        "Example:"
      ],
      "metadata": {
        "id": "plN21_7G--D-"
      }
    },
    {
      "cell_type": "code",
      "source": [
        "from sklearn.preprocessing import OneHotEncoder\n",
        "import numpy as np\n",
        "\n",
        "data = np.array(['cat', 'dog', 'mouse']).reshape(-1,1)\n",
        "encoder = OneHotEncoder()\n",
        "encoded_data = encoder.fit_transform(data).toarray()\n",
        "print(encoded_data)"
      ],
      "metadata": {
        "colab": {
          "base_uri": "https://localhost:8080/"
        },
        "outputId": "dd563354-e3f1-4e8d-dd38-b743ce8f0506",
        "id": "TBv3VaBo_r_Y"
      },
      "execution_count": 10,
      "outputs": [
        {
          "output_type": "stream",
          "name": "stdout",
          "text": [
            "[[1. 0. 0.]\n",
            " [0. 1. 0.]\n",
            " [0. 0. 1.]]\n"
          ]
        }
      ]
    },
    {
      "cell_type": "markdown",
      "source": [
        "Pros:\n",
        "\n",
        "* Avoids introducing ordinal relationship.\n",
        "* Works well for nominal data.\n",
        "\n",
        "Cons:\n",
        "\n",
        "* Increases dimensionality, especially for features with many unique categories.\n",
        "\n",
        "3) Binary Encoding: Encodes categories as binary numbers and splits them into separate columns.\n",
        "\n",
        "Example:"
      ],
      "metadata": {
        "id": "X0wipBkDAKHM"
      }
    },
    {
      "cell_type": "code",
      "source": [
        "!pip install category_encoders\n",
        "from category_encoders import BinaryEncoder\n",
        "import pandas as pd\n",
        "\n",
        "data = pd.DataFrame({'Animal': ['cat', 'dog', 'mouse']})\n",
        "encoder = BinaryEncoder()\n",
        "binary_encoded_data = encoder.fit_transform(data)\n",
        "print(binary_encoded_data)"
      ],
      "metadata": {
        "colab": {
          "base_uri": "https://localhost:8080/"
        },
        "outputId": "a1d2e0e5-837f-4fa5-f373-d42ae195c3ef",
        "id": "tyO_-SW0A4cO"
      },
      "execution_count": 11,
      "outputs": [
        {
          "output_type": "stream",
          "name": "stdout",
          "text": [
            "Collecting category_encoders\n",
            "  Downloading category_encoders-2.6.4-py2.py3-none-any.whl.metadata (8.0 kB)\n",
            "Requirement already satisfied: numpy>=1.14.0 in /usr/local/lib/python3.10/dist-packages (from category_encoders) (1.26.4)\n",
            "Requirement already satisfied: scikit-learn>=0.20.0 in /usr/local/lib/python3.10/dist-packages (from category_encoders) (1.6.0)\n",
            "Requirement already satisfied: scipy>=1.0.0 in /usr/local/lib/python3.10/dist-packages (from category_encoders) (1.13.1)\n",
            "Requirement already satisfied: statsmodels>=0.9.0 in /usr/local/lib/python3.10/dist-packages (from category_encoders) (0.14.4)\n",
            "Requirement already satisfied: pandas>=1.0.5 in /usr/local/lib/python3.10/dist-packages (from category_encoders) (2.2.2)\n",
            "Requirement already satisfied: patsy>=0.5.1 in /usr/local/lib/python3.10/dist-packages (from category_encoders) (1.0.1)\n",
            "Requirement already satisfied: python-dateutil>=2.8.2 in /usr/local/lib/python3.10/dist-packages (from pandas>=1.0.5->category_encoders) (2.8.2)\n",
            "Requirement already satisfied: pytz>=2020.1 in /usr/local/lib/python3.10/dist-packages (from pandas>=1.0.5->category_encoders) (2024.2)\n",
            "Requirement already satisfied: tzdata>=2022.7 in /usr/local/lib/python3.10/dist-packages (from pandas>=1.0.5->category_encoders) (2024.2)\n",
            "Requirement already satisfied: joblib>=1.2.0 in /usr/local/lib/python3.10/dist-packages (from scikit-learn>=0.20.0->category_encoders) (1.4.2)\n",
            "Requirement already satisfied: threadpoolctl>=3.1.0 in /usr/local/lib/python3.10/dist-packages (from scikit-learn>=0.20.0->category_encoders) (3.5.0)\n",
            "Requirement already satisfied: packaging>=21.3 in /usr/local/lib/python3.10/dist-packages (from statsmodels>=0.9.0->category_encoders) (24.2)\n",
            "Requirement already satisfied: six>=1.5 in /usr/local/lib/python3.10/dist-packages (from python-dateutil>=2.8.2->pandas>=1.0.5->category_encoders) (1.17.0)\n",
            "Downloading category_encoders-2.6.4-py2.py3-none-any.whl (82 kB)\n",
            "\u001b[2K   \u001b[90m━━━━━━━━━━━━━━━━━━━━━━━━━━━━━━━━━━━━━━━━\u001b[0m \u001b[32m82.0/82.0 kB\u001b[0m \u001b[31m3.7 MB/s\u001b[0m eta \u001b[36m0:00:00\u001b[0m\n",
            "\u001b[?25hInstalling collected packages: category_encoders\n",
            "Successfully installed category_encoders-2.6.4\n",
            "   Animal_0  Animal_1\n",
            "0         0         1\n",
            "1         1         0\n",
            "2         1         1\n"
          ]
        },
        {
          "output_type": "stream",
          "name": "stderr",
          "text": [
            "/usr/local/lib/python3.10/dist-packages/sklearn/base.py:411: FutureWarning: The `_get_tags` method is deprecated in 1.6 and will be removed in 1.7. Please implement the `__sklearn_tags__` method.\n",
            "  warnings.warn(\n",
            "/usr/local/lib/python3.10/dist-packages/sklearn/base.py:411: FutureWarning: The `_get_tags` method is deprecated in 1.6 and will be removed in 1.7. Please implement the `__sklearn_tags__` method.\n",
            "  warnings.warn(\n"
          ]
        }
      ]
    },
    {
      "cell_type": "markdown",
      "source": [
        "Pros:\n",
        "* Reduces dimensionality compared to one-hot encoding.\n",
        "* Suitable for high-cordinality features.\n",
        "\n",
        "4) Ordinal Encoding: Encodes categories as integers based on their rank or order.\n",
        "\n",
        "Example:"
      ],
      "metadata": {
        "id": "4YdK4ivMBxQg"
      }
    },
    {
      "cell_type": "code",
      "source": [
        "from sklearn.preprocessing import OrdinalEncoder\n",
        "\n",
        "data = [['low'], ['medium'], ['high']]\n",
        "encoder = OrdinalEncoder(categories=[['low', 'medium', 'high']])\n",
        "encoded_data = encoder.fit_transform(data)\n",
        "print(encoded_data)"
      ],
      "metadata": {
        "colab": {
          "base_uri": "https://localhost:8080/"
        },
        "outputId": "1e720614-8bc1-4c14-df4a-670e7df2b2c0",
        "id": "ic2j-CZ3CS_d"
      },
      "execution_count": 12,
      "outputs": [
        {
          "output_type": "stream",
          "name": "stdout",
          "text": [
            "[[0.]\n",
            " [1.]\n",
            " [2.]]\n"
          ]
        }
      ]
    },
    {
      "cell_type": "markdown",
      "source": [
        "Pros:\n",
        "* Retains the order of categories.\n",
        "* Simple for ordinal data.\n",
        "\n",
        "Cons:\n",
        "* Not suitable for nominal data without an inherent order.\n",
        "\n",
        "5) Frequancy Encoding:\n",
        "\n",
        "Encodes categories based on their frequancy of occurence.\n",
        "\n",
        "Example:"
      ],
      "metadata": {
        "id": "aga4gG7LC7w1"
      }
    },
    {
      "cell_type": "code",
      "source": [
        "import pandas as pd\n",
        "\n",
        "data = pd.DataFrame({'Animal': ['dog', 'cat', 'cat',  'dog', 'mouse']})\n",
        "data['Frequancy_Encoded'] = data['Animal'].map(data['Animal'].value_counts())\n",
        "print(data)"
      ],
      "metadata": {
        "colab": {
          "base_uri": "https://localhost:8080/"
        },
        "outputId": "c55edcbd-71b8-4be5-8493-7855e4633a48",
        "id": "RbiDPw04DjZH"
      },
      "execution_count": 14,
      "outputs": [
        {
          "output_type": "stream",
          "name": "stdout",
          "text": [
            "  Animal  Frequancy_Encoded\n",
            "0    dog                  2\n",
            "1    cat                  2\n",
            "2    cat                  2\n",
            "3    dog                  2\n",
            "4  mouse                  1\n"
          ]
        }
      ]
    },
    {
      "cell_type": "markdown",
      "source": [
        "Pros:\n",
        "* Keeps dimensionality low.\n",
        "* Useful for feature with many unique categories.\n",
        "\n",
        "Data encoding is crucial for preparing categorical data for machine learning. Choosing the right encoding method depends on the nature of the data (nominal or ordinal), the algorithm being used, and the need to manage dimensionality."
      ],
      "metadata": {
        "id": "DVvVXSayEpf8"
      }
    }
  ]
}